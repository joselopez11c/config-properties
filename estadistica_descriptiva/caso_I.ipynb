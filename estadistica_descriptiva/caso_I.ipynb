{
  "nbformat": 4,
  "nbformat_minor": 0,
  "metadata": {
    "colab": {
      "provenance": [],
      "include_colab_link": true
    },
    "kernelspec": {
      "name": "python3",
      "display_name": "Python 3"
    },
    "language_info": {
      "name": "python"
    }
  },
  "cells": [
    {
      "cell_type": "markdown",
      "metadata": {
        "id": "view-in-github",
        "colab_type": "text"
      },
      "source": [
        "<a href=\"https://colab.research.google.com/github/joselopez11c/config-properties/blob/main/estadistica_descriptiva/caso_I.ipynb\" target=\"_parent\"><img src=\"https://colab.research.google.com/assets/colab-badge.svg\" alt=\"Open In Colab\"/></a>"
      ]
    },
    {
      "cell_type": "markdown",
      "source": [
        "\n",
        "<h1 align=center><font size = 5>Bank Marketing Dataset\n",
        "</font></h1>\n",
        "\n",
        "---"
      ],
      "metadata": {
        "id": "K-VM81mQdFwE"
      }
    },
    {
      "cell_type": "markdown",
      "source": [
        "\n",
        "<img src=\"https://storage.googleapis.com/kaggle-datasets-images/4471/6849/ef168f48f7a3fc4c669f4bd419c3f7ab/dataset-cover.jpg?t=2017-11-12-21-28-19\" alt=\"HTML5 Icon\" style=\"width: 600px; height: 450px;\">\n",
        "<div style=\"text-align: center\"></div>"
      ],
      "metadata": {
        "id": "LZh_jwVbhHM5"
      }
    },
    {
      "cell_type": "markdown",
      "source": [
        "## Introducción\n",
        "\n",
        "En este laboratorio, aprenderá a usar python para analizar datos haciendo uso de fundamentos de estadística.\n",
        "\n"
      ],
      "metadata": {
        "id": "zINWKfpHZJRl"
      }
    },
    {
      "cell_type": "markdown",
      "source": [
        "## Tabla de Contenidos\n",
        "\n",
        "<div class=\"alert alert-block alert-info\" style=\"margin-top: 20px\">\n",
        "\n",
        "<font size = 3>\n",
        "    \n",
        "1. <a href=\"#item31\">Importación de librerías</a>  \n",
        "2. <a href=\"#item32\">Lectura del dataset</a>  \n",
        "3. <a href=\"#item34\">Análisis estadístico básico</a>  \n",
        "4. <a href=\"#item34\">Visualización de datos</a>  \n",
        "\n",
        "</font>\n",
        "</div>"
      ],
      "metadata": {
        "id": "icLdd0FKXoSA"
      }
    },
    {
      "cell_type": "markdown",
      "source": [
        "# 1. Importación de librerías\n"
      ],
      "metadata": {
        "id": "lcMlK7SkR99P"
      }
    },
    {
      "cell_type": "code",
      "execution_count": null,
      "metadata": {
        "id": "JBmiOBCqOtII"
      },
      "outputs": [],
      "source": [
        "# Importamos las librerías necesarias para manejar datos y realizar visualizaciones.\n",
        "\n",
        "import pandas as pd\n",
        "import numpy as np\n",
        "\n",
        "from sklearn.preprocessing import KBinsDiscretizer\n",
        "\n",
        "import seaborn as sns\n",
        "import matplotlib.pyplot as plt\n"
      ]
    },
    {
      "cell_type": "markdown",
      "source": [
        "# 2. Lectura del dataset"
      ],
      "metadata": {
        "id": "PFTBqh49d3oU"
      }
    },
    {
      "cell_type": "code",
      "source": [
        "# Cargamos los datos desde un archivo CSV y mostramos las primeras filas para verificar su correcta lectura.\n",
        "pddf = pd.read_csv('bank.csv')\n",
        "print(\"Primeras filas del dataset:\")\n",
        "print(pddf.head())\n"
      ],
      "metadata": {
        "id": "v1qgxY0xRvfT"
      },
      "execution_count": null,
      "outputs": []
    },
    {
      "cell_type": "code",
      "source": [
        "# Exploración inicial de datos\n",
        "# Mostramos el tamaño del dataset y el tipo de datos para cada columna.\n",
        "print(\"Dimensiones del dataset:\", pddf.shape)\n"
      ],
      "metadata": {
        "id": "UsSPkhTpeTAr"
      },
      "execution_count": null,
      "outputs": []
    },
    {
      "cell_type": "code",
      "source": [
        "print(\"Número de entradas en el dataset:\", len(pddf))\n"
      ],
      "metadata": {
        "id": "5SiuB_TaeW2B"
      },
      "execution_count": null,
      "outputs": []
    },
    {
      "cell_type": "code",
      "source": [
        "print(\"Tipos de datos en cada columna:\")\n",
        "print(pddf.dtypes)\n"
      ],
      "metadata": {
        "id": "s7gneV4veYNg"
      },
      "execution_count": null,
      "outputs": []
    },
    {
      "cell_type": "markdown",
      "source": [
        "# 3. Análisis estadístico básico\n"
      ],
      "metadata": {
        "id": "bcG3_9tHSDar"
      }
    },
    {
      "cell_type": "markdown",
      "source": [
        "## Media"
      ],
      "metadata": {
        "id": "P2SPYGBmerB4"
      }
    },
    {
      "cell_type": "code",
      "source": [
        "## 4.1 Media\n",
        "# Calculamos la media de la edad para entender la edad promedio de los individuos en el dataset.\n",
        "print(\"Media de edad:\", pddf['age'].mean())\n"
      ],
      "metadata": {
        "id": "nps9veOmemXG"
      },
      "execution_count": null,
      "outputs": []
    },
    {
      "cell_type": "code",
      "source": [
        "pddf.groupby('marital')['age'].mean()"
      ],
      "metadata": {
        "id": "kPVg5wljUSoC"
      },
      "execution_count": null,
      "outputs": []
    },
    {
      "cell_type": "code",
      "source": [
        "pddf.groupby('marital')['age'].count()"
      ],
      "metadata": {
        "id": "fD-Avg2HUzYO"
      },
      "execution_count": null,
      "outputs": []
    },
    {
      "cell_type": "markdown",
      "source": [
        "## mediana"
      ],
      "metadata": {
        "id": "onng4JoCXWC-"
      }
    },
    {
      "cell_type": "code",
      "source": [
        "# La mediana nos proporciona el valor central de la edad, reduciendo el impacto de valores atípicos.\n",
        "print(\"Mediana de edad:\", pddf['age'].median())\n"
      ],
      "metadata": {
        "id": "2FVAALnoXVun"
      },
      "execution_count": null,
      "outputs": []
    },
    {
      "cell_type": "code",
      "source": [
        "pddf.sort_values(by = 'age', ascending = False)['age']"
      ],
      "metadata": {
        "id": "A00sIKY4YRNU"
      },
      "execution_count": null,
      "outputs": []
    },
    {
      "cell_type": "markdown",
      "source": [
        "## Cuantiles"
      ],
      "metadata": {
        "id": "U5VTHflackSS"
      }
    },
    {
      "cell_type": "code",
      "source": [
        "np.percentile(pddf.age, 50)"
      ],
      "metadata": {
        "id": "TW3ERGELcmGJ"
      },
      "execution_count": null,
      "outputs": []
    },
    {
      "cell_type": "code",
      "source": [
        "np.percentile(pddf.age, 25)\n",
        "# El 75% de los clientes tiene más de 32 años"
      ],
      "metadata": {
        "id": "SxzJ8WFbdwKH"
      },
      "execution_count": null,
      "outputs": []
    },
    {
      "cell_type": "code",
      "source": [
        "# el 50% de los clientes tienen entre 32 y 49 años"
      ],
      "metadata": {
        "id": "cXLrz8c5eZUQ"
      },
      "execution_count": null,
      "outputs": []
    },
    {
      "cell_type": "code",
      "source": [
        "# el 80% de los clientes tienen entre 28 y 58 años"
      ],
      "metadata": {
        "id": "4_UrPpcOe7uT"
      },
      "execution_count": null,
      "outputs": []
    },
    {
      "cell_type": "code",
      "source": [
        "# Los cuantiles proporcionan una visión clara de la distribución de la edad.\n",
        "print(\"Cuantiles de edad al 10%, 25%, 50% (mediana), 75%, y 90%:\")\n",
        "print(np.percentile(pddf.age, [10, 25, 50, 75, 90]))\n"
      ],
      "metadata": {
        "id": "kOYhr2m0dgyY"
      },
      "execution_count": null,
      "outputs": []
    },
    {
      "cell_type": "markdown",
      "source": [
        "## Moda"
      ],
      "metadata": {
        "id": "OhvXyyy2e5NC"
      }
    },
    {
      "cell_type": "code",
      "source": [
        "pddf.groupby('marital')['age'].count()"
      ],
      "metadata": {
        "id": "p4AeQSGWf4ln"
      },
      "execution_count": null,
      "outputs": []
    },
    {
      "cell_type": "markdown",
      "source": [
        "## Desviación estándar"
      ],
      "metadata": {
        "id": "u50PrV-cg_7x"
      }
    },
    {
      "cell_type": "code",
      "source": [
        "# Calculamos la media y desviación estándar de la edad para evaluar la variabilidad.\n",
        "media_edad = pddf.age.mean()\n",
        "std_edad = pddf.age.std()\n",
        "print(\"Media de edad:\", media_edad)\n",
        "print(\"Desviación estándar de la edad:\", std_edad)\n"
      ],
      "metadata": {
        "id": "OGiY5FbvgLGL"
      },
      "execution_count": null,
      "outputs": []
    },
    {
      "cell_type": "code",
      "source": [
        "pddf.age.mean()"
      ],
      "metadata": {
        "id": "aicjWDVRhNds"
      },
      "execution_count": null,
      "outputs": []
    },
    {
      "cell_type": "code",
      "source": [
        "pddf.age.std()"
      ],
      "metadata": {
        "id": "5mTinbiLhC1x"
      },
      "execution_count": null,
      "outputs": []
    },
    {
      "cell_type": "code",
      "source": [
        "print(\"Rango aproximado de edad normal:\", (media_edad - std_edad, media_edad + std_edad))"
      ],
      "metadata": {
        "id": "6Y3209BTgPMW"
      },
      "execution_count": null,
      "outputs": []
    },
    {
      "cell_type": "markdown",
      "source": [
        "Los datos en promedio se encuentran entre 41 - 12 = 29 y 41 + 12 = 53 años"
      ],
      "metadata": {
        "id": "FQtkTgZFhZcv"
      }
    },
    {
      "cell_type": "code",
      "source": [
        "pddf.duration.mean()"
      ],
      "metadata": {
        "id": "SV9UO3rWhY2A"
      },
      "execution_count": null,
      "outputs": []
    },
    {
      "cell_type": "code",
      "source": [
        "pddf.duration.std()"
      ],
      "metadata": {
        "id": "nZixsNQWiIud"
      },
      "execution_count": null,
      "outputs": []
    },
    {
      "cell_type": "code",
      "source": [
        "media_duracion = pddf.duration.mean()\n",
        "std_duracion = pddf.duration.std()\n",
        "print(\"Media de duración:\", media_duracion)\n",
        "print(\"Desviación estándar de duración:\", std_duracion)"
      ],
      "metadata": {
        "id": "bhe8K8Bagky9"
      },
      "execution_count": null,
      "outputs": []
    },
    {
      "cell_type": "markdown",
      "source": [
        "## Rangos"
      ],
      "metadata": {
        "id": "4bt5IcnZhBYz"
      }
    },
    {
      "cell_type": "code",
      "source": [
        "# Definimos y calculamos rangos de edad para categorizar a los individuos.\n",
        "maximo = pddf['age'].max()\n",
        "minimo = pddf['age'].min()\n",
        "amplitud = maximo - minimo\n",
        "rangos = 5\n",
        "amplitud_rango = amplitud / rangos\n",
        "print(\"Amplitud de rango de edad:\", amplitud_rango)\n"
      ],
      "metadata": {
        "id": "rPg8ExlohAX-"
      },
      "execution_count": null,
      "outputs": []
    },
    {
      "cell_type": "code",
      "source": [
        "def rango_edad(x):\n",
        "  if x <= 33:\n",
        "    return 'a. 18 - 33'\n",
        "  elif x <= 48:\n",
        "    return 'b. 34 - 48'\n",
        "  elif x <= 63:\n",
        "    return 'c. 49 - 63'\n",
        "  elif x <= 78:\n",
        "    return 'd. 64 - 78'\n",
        "  else:\n",
        "    return 'e- 78 - 95'\n"
      ],
      "metadata": {
        "id": "ovILv4hnhqlW"
      },
      "execution_count": null,
      "outputs": []
    },
    {
      "cell_type": "code",
      "source": [
        "pddf['rango_edad'] = pddf.age.apply(lambda x: rango_edad(x))"
      ],
      "metadata": {
        "id": "z65gi86phKqb"
      },
      "execution_count": null,
      "outputs": []
    },
    {
      "cell_type": "code",
      "source": [
        "pddf.groupby('rango_edad')['age'].count()"
      ],
      "metadata": {
        "id": "qi-C-x1qiwMq"
      },
      "execution_count": null,
      "outputs": []
    },
    {
      "cell_type": "code",
      "source": [
        "pddf.age.hist(bins = 5)"
      ],
      "metadata": {
        "id": "LKfCeVPyi6pl"
      },
      "execution_count": null,
      "outputs": []
    },
    {
      "cell_type": "code",
      "source": [
        "from sklearn.preprocessing import KBinsDiscretizer"
      ],
      "metadata": {
        "id": "4EXAeSEjVF4B"
      },
      "execution_count": null,
      "outputs": []
    },
    {
      "cell_type": "code",
      "source": [
        "# fit: hacer el cálculo del procedimiento.\n",
        "# transform: Usa el objeto entrenado\n",
        "# fit_transform: Realiza el cálculo y además usa el objeto."
      ],
      "metadata": {
        "id": "8MjSUxerWAmT"
      },
      "execution_count": null,
      "outputs": []
    },
    {
      "cell_type": "code",
      "source": [
        "# Discretizar variables\n",
        "\n",
        "from sklearn.preprocessing import KBinsDiscretizer\n",
        "\n",
        "discretizer = KBinsDiscretizer(n_bins = 5,\n",
        "                               encode = 'ordinal',\n",
        "                               strategy = \"uniform\").fit(pddf[['age', 'duration']])\n"
      ],
      "metadata": {
        "id": "EkS3v4z8VFEM"
      },
      "execution_count": null,
      "outputs": []
    },
    {
      "cell_type": "code",
      "source": [
        "pddf[['age_cat', 'duration_cat']] = discretizer.transform(pddf[['age', 'duration']])"
      ],
      "metadata": {
        "id": "h9IUFGR_Xyfe"
      },
      "execution_count": null,
      "outputs": []
    },
    {
      "cell_type": "code",
      "source": [
        "pddf[['age_cat', 'duration_cat']].head()"
      ],
      "metadata": {
        "id": "z_-lLnjrWkBq"
      },
      "execution_count": null,
      "outputs": []
    },
    {
      "cell_type": "code",
      "source": [
        "pddf.groupby('age_cat')['age'].count()"
      ],
      "metadata": {
        "id": "6fbmEUt8ZSrz"
      },
      "execution_count": null,
      "outputs": []
    },
    {
      "cell_type": "markdown",
      "source": [
        "# 4. Visualización de datos"
      ],
      "metadata": {
        "id": "gjyxm4x7gpjQ"
      }
    },
    {
      "cell_type": "code",
      "source": [
        "# Histograma de la edad para visualizar la distribución de edades en el dataset.\n",
        "pddf.age.hist(bins = 5)\n",
        "plt.title(\"Distribución de Edades\")\n",
        "plt.xlabel(\"Edad\")\n",
        "plt.ylabel(\"Frecuencia\")\n",
        "plt.show()"
      ],
      "metadata": {
        "id": "DdICPFJogxZ_"
      },
      "execution_count": null,
      "outputs": []
    },
    {
      "cell_type": "markdown",
      "source": [
        "## Boxplot"
      ],
      "metadata": {
        "id": "bNaw0rDbbknx"
      }
    },
    {
      "cell_type": "code",
      "source": [
        "sns.boxplot(data = pddf, x = 'age')"
      ],
      "metadata": {
        "id": "iFC2l6NLbt7k"
      },
      "execution_count": null,
      "outputs": []
    },
    {
      "cell_type": "code",
      "source": [
        "# Utilizamos el rango intercuartílico para identificar y reportar valores atípicos.\n",
        "\n",
        "Q3 = np.percentile(pddf.age, 75)\n",
        "Q1 = np.percentile(pddf.age, 25)\n",
        "RIC = Q3 - Q1\n",
        "\n",
        "upper_limit = Q3 + 1.5*RIC\n",
        "lower_limit = Q1 - 1.5*RIC\n",
        "\n",
        "print(f'El límite superior de los datos es: {upper_limit}')\n",
        "print(f'El límite inferior de los datos es: {lower_limit}')"
      ],
      "metadata": {
        "id": "aaAY3vJ8c2l0"
      },
      "execution_count": null,
      "outputs": []
    },
    {
      "cell_type": "markdown",
      "source": [
        "---\n",
        "## Gracias por completar este laboratorio!"
      ],
      "metadata": {
        "id": "D7vStbxqhBh1"
      }
    }
  ]
}